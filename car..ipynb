{
 "cells": [
  {
   "cell_type": "code",
   "execution_count": 1,
   "id": "bf411e06-c603-4883-b432-6e484d86a53a",
   "metadata": {},
   "outputs": [
    {
     "data": {
      "text/plain": [
       "15"
      ]
     },
     "execution_count": 1,
     "metadata": {},
     "output_type": "execute_result"
    }
   ],
   "source": [
    "12+3"
   ]
  },
  {
   "cell_type": "code",
   "execution_count": 2,
   "id": "9e5d2354-6efe-4b97-b23c-1a8ee1ca6e48",
   "metadata": {},
   "outputs": [
    {
     "data": {
      "text/plain": [
       "5334773208"
      ]
     },
     "execution_count": 2,
     "metadata": {},
     "output_type": "execute_result"
    }
   ],
   "source": [
    "12*444564434"
   ]
  },
  {
   "cell_type": "code",
   "execution_count": 3,
   "id": "eac7b3b4-95cf-4a83-8e50-412bbc420e22",
   "metadata": {},
   "outputs": [
    {
     "data": {
      "text/plain": [
       "33"
      ]
     },
     "execution_count": 3,
     "metadata": {},
     "output_type": "execute_result"
    }
   ],
   "source": [
    "100//3"
   ]
  },
  {
   "cell_type": "code",
   "execution_count": 4,
   "id": "b57bdf0f-f555-49de-a175-d4bdb366b867",
   "metadata": {},
   "outputs": [
    {
     "data": {
      "text/plain": [
       "1"
      ]
     },
     "execution_count": 4,
     "metadata": {},
     "output_type": "execute_result"
    }
   ],
   "source": [
    "100%3"
   ]
  },
  {
   "cell_type": "code",
   "execution_count": 5,
   "id": "5af38dc2-6224-4573-bfb5-dd9e9bb65f5e",
   "metadata": {},
   "outputs": [
    {
     "data": {
      "text/plain": [
       "8192"
      ]
     },
     "execution_count": 5,
     "metadata": {},
     "output_type": "execute_result"
    }
   ],
   "source": [
    "2**13"
   ]
  },
  {
   "cell_type": "code",
   "execution_count": 6,
   "id": "d919dd45-41d8-4d30-ad72-0622f5ff905a",
   "metadata": {},
   "outputs": [
    {
     "data": {
      "text/plain": [
       "True"
      ]
     },
     "execution_count": 6,
     "metadata": {},
     "output_type": "execute_result"
    }
   ],
   "source": [
    "10==10"
   ]
  },
  {
   "cell_type": "code",
   "execution_count": 7,
   "id": "fe006526-633d-4218-ae81-a2b35edae35f",
   "metadata": {
    "scrolled": true
   },
   "outputs": [],
   "source": [
    "msg = \"Hello world!\""
   ]
  },
  {
   "cell_type": "code",
   "execution_count": 8,
   "id": "3ae7cf90-3b1b-4120-9f97-4a9744f51814",
   "metadata": {},
   "outputs": [],
   "source": [
    " list= [\"Москва\",\"Тверь\",\"Санкт-Петербург\",\"Казань\"]"
   ]
  },
  {
   "cell_type": "code",
   "execution_count": 9,
   "id": "7c94a4b5-aedc-4935-8fec-363d6f6b11bc",
   "metadata": {},
   "outputs": [],
   "source": [
    " list[0]=\"Москва\"\n",
    " list[1]=\"Екатиренбург\"\n",
    " list[2]=\"Санкт-Петербург\"\n",
    " list[3]=\"Казань\""
   ]
  },
  {
   "cell_type": "code",
   "execution_count": 10,
   "id": "bb5b0cf4-6e8b-41bd-b7e5-0195be910e10",
   "metadata": {},
   "outputs": [
    {
     "name": "stdout",
     "output_type": "stream",
     "text": [
      "['Москва', 'Екатиренбург', 'Санкт-Петербург', 'Казань']\n"
     ]
    }
   ],
   "source": [
    "print (list)"
   ]
  },
  {
   "cell_type": "code",
   "execution_count": 11,
   "id": "45c38e07-e631-4a58-944c-bfcc35d1fc6f",
   "metadata": {},
   "outputs": [],
   "source": [
    "my_dict={\"дом1\":\"house1\"}"
   ]
  },
  {
   "cell_type": "code",
   "execution_count": 12,
   "id": "2b571e72-1d96-4259-9ac1-2196c1a83b17",
   "metadata": {},
   "outputs": [],
   "source": [
    "my_dict={\"машина2\":\"car2\"}"
   ]
  },
  {
   "cell_type": "code",
   "execution_count": 13,
   "id": "92de92de-c498-4c62-baf9-5b8e82b002b5",
   "metadata": {},
   "outputs": [],
   "source": [
    "set1={\"машина1\", \"абобус2\", \"значениеN\"}"
   ]
  },
  {
   "cell_type": "code",
   "execution_count": 14,
   "id": "b5d3f09d-c7d9-48b7-9005-3d605e74853f",
   "metadata": {},
   "outputs": [
    {
     "name": "stdout",
     "output_type": "stream",
     "text": [
      "ПРИВЕТ\n"
     ]
    }
   ],
   "source": [
    "print(\"привет\".upper())"
   ]
  },
  {
   "cell_type": "code",
   "execution_count": 15,
   "id": "51b45bee-4a6a-4a24-846c-fd889eab308a",
   "metadata": {},
   "outputs": [],
   "source": [
    "  list= [\"Москва\",\"Тверь\",\"Санкт-Петербург\",\"rазань\"]"
   ]
  },
  {
   "cell_type": "code",
   "execution_count": 16,
   "id": "30d4a959-b215-4757-8fd0-d287c9dbd804",
   "metadata": {},
   "outputs": [],
   "source": [
    " list[0]=\"Москва\"\n",
    " list[1]=\"Екатиренбург\"\n",
    " list[2]=\"Санкт-Петербург\"\n",
    " list[3]=\"Казань\""
   ]
  },
  {
   "cell_type": "code",
   "execution_count": 17,
   "id": "17307ecd-4db7-4abc-ac32-fc28d28c143c",
   "metadata": {},
   "outputs": [],
   "source": [
    " (list.append(\"Сочи\"))"
   ]
  },
  {
   "cell_type": "code",
   "execution_count": 18,
   "id": "d93f0c7a-d414-4af4-b219-4ceb09533721",
   "metadata": {},
   "outputs": [
    {
     "name": "stdout",
     "output_type": "stream",
     "text": [
      "['Москва', 'Екатиренбург', 'Санкт-Петербург', 'Казань', 'Сочи']\n"
     ]
    }
   ],
   "source": [
    "print (list)"
   ]
  },
  {
   "cell_type": "code",
   "execution_count": 19,
   "id": "7df516e1-a1cb-4ca1-b0df-43da33084e0e",
   "metadata": {
    "scrolled": true
   },
   "outputs": [
    {
     "name": "stdout",
     "output_type": "stream",
     "text": [
      "{('mersedes', 's'): {'цена': 1000000, 'год': 2020, 'страна': 'германия', 'разгон': '1 сек', 'привод': 'передний', 'обьём двигателя': '20л'}}\n"
     ]
    }
   ],
   "source": [
    "car_one ={('mersedes', 's'): {'цена': 1000000}}\n",
    "car_one[('mersedes', 's')]['год'] = 2020\n",
    "car_one[('mersedes', 's')]['страна'] = \"германия\"\n",
    "car_one[('mersedes', 's')]['разгон'] = \"1 сек\"\n",
    "car_one[('mersedes', 's')]['привод'] = \"передний\"\n",
    "car_one[('mersedes', 's')]['обьём двигателя'] = \"20л\"\n",
    "print(car_one)"
   ]
  },
  {
   "cell_type": "code",
   "execution_count": 20,
   "id": "3fd6c02e-622a-4694-bb37-597d345af84e",
   "metadata": {
    "scrolled": true
   },
   "outputs": [
    {
     "name": "stdout",
     "output_type": "stream",
     "text": [
      "{('zhiguli', 's'): {'цена': 100000, 'год': 1990, 'страна': 'россия', 'разгон': '5 сек', 'привод': 'полный', 'обьём двигателя': '20л'}}\n"
     ]
    }
   ],
   "source": [
    "car_two ={('zhiguli', 's'): {'цена': 100000}}\n",
    "car_two[('zhiguli', 's')]['год'] = 1990\n",
    "car_two[('zhiguli', 's')]['страна'] = \"россия\"\n",
    "car_two[('zhiguli', 's')]['разгон'] = \"5 сек\"\n",
    "car_two[('zhiguli', 's')]['привод'] = \"полный\"\n",
    "car_two[('zhiguli', 's')]['обьём двигателя'] = \"20л\"\n",
    "print(car_two)"
   ]
  },
  {
   "cell_type": "code",
   "execution_count": 21,
   "id": "916c7a50-5dcf-4389-8978-8267458ccc80",
   "metadata": {
    "scrolled": true
   },
   "outputs": [
    {
     "name": "stdout",
     "output_type": "stream",
     "text": [
      "{('bmw', 'e'): {'цена': 1000000000, 'год': 2022, 'страна': 'германия', 'разгон': '50 сек', 'привод': 'задний', 'обьём двигателя': '10л'}}\n"
     ]
    }
   ],
   "source": [
    "car_three ={('bmw', 'e'): {'цена': 1000000000}}\n",
    "car_three[('bmw', 'e')]['год'] = 2022\n",
    "car_three[('bmw', 'e')]['страна'] = \"германия\"\n",
    "car_three[('bmw', 'e')]['разгон'] = \"50 сек\"\n",
    "car_three[('bmw', 'e')]['привод'] = \"задний\"\n",
    "car_three[('bmw', 'e')]['обьём двигателя'] = \"10л\"\n",
    "print(car_three)"
   ]
  },
  {
   "cell_type": "code",
   "execution_count": 22,
   "id": "86a61ed3-7fd2-4452-9f0d-a5e7a0bf1670",
   "metadata": {
    "scrolled": true
   },
   "outputs": [
    {
     "name": "stdout",
     "output_type": "stream",
     "text": [
      "{('toyota', 'd'): {'цена': 1000000, 'год': 2000, 'страна': 'италия', 'разгон': '6 сек', 'привод': 'передний', 'обьём двигателя': '20л'}}\n"
     ]
    }
   ],
   "source": [
    "car_four ={('toyota', 'd'): {'цена': 1000000}}\n",
    "car_four[('toyota', 'd')]['год'] = 2000\n",
    "car_four[('toyota', 'd')]['страна'] = \"италия\"\n",
    "car_four[('toyota', 'd')]['разгон'] = \"6 сек\"\n",
    "car_four[('toyota', 'd')]['привод'] = \"передний\"\n",
    "car_four[('toyota', 'd')]['обьём двигателя'] = \"20л\"\n",
    "print(car_four)"
   ]
  },
  {
   "cell_type": "code",
   "execution_count": 23,
   "id": "75a7161b-b9ca-4824-8cb8-e57c7dca37ca",
   "metadata": {
    "scrolled": true
   },
   "outputs": [
    {
     "name": "stdout",
     "output_type": "stream",
     "text": [
      "{('ford', 's'): {'цена': 3000000, 'год': 2000, 'страна': 'америка', 'разгон': '7 сек', 'привод': 'передний', 'обьём двигателя': '30л'}}\n"
     ]
    }
   ],
   "source": [
    "car_five={('ford', 's'): {'цена': 3000000}}\n",
    "car_five[('ford', 's')]['год'] = 2000\n",
    "car_five[('ford', 's')]['страна'] = \"америка\"\n",
    "car_five[('ford', 's')]['разгон'] = \"7 сек\"\n",
    "car_five[('ford', 's')]['привод'] = \"передний\"\n",
    "car_five[('ford', 's')]['обьём двигателя'] = \"30л\"\n",
    "print(car_five)"
   ]
  },
  {
   "cell_type": "code",
   "execution_count": 24,
   "id": "5ffc5ba7-af45-4d74-9742-db56f83a8a07",
   "metadata": {
    "scrolled": true
   },
   "outputs": [
    {
     "name": "stdout",
     "output_type": "stream",
     "text": [
      "{('porsche', 's'): {'цена': 10000000, 'год': 2020, 'страна': 'германия', 'разгон': '2 сек', 'привод': 'задний', 'обьём двигателя': '20л'}}\n"
     ]
    }
   ],
   "source": [
    "car_six ={('porsche', 's'): {'цена': 10000000}}\n",
    "car_six[('porsche', 's')]['год'] = 2020\n",
    "car_six[('porsche', 's')]['страна'] = \"германия\"\n",
    "car_six[('porsche', 's')]['разгон'] = \"2 сек\"\n",
    "car_six[('porsche', 's')]['привод'] = \"задний\"\n",
    "car_six[('porsche', 's')]['обьём двигателя'] = \"20л\"\n",
    "print(car_six)"
   ]
  },
  {
   "cell_type": "code",
   "execution_count": 25,
   "id": "d5b41e8d-a0f3-40e4-a26c-c9083b2239d8",
   "metadata": {
    "scrolled": true
   },
   "outputs": [
    {
     "name": "stdout",
     "output_type": "stream",
     "text": [
      "{('audi', 's'): {'цена': 10000000, 'год': 2020, 'страна': 'германия', 'разгон': '5 сек', 'привод': 'задний', 'обьём двигателя': '20л'}}\n"
     ]
    }
   ],
   "source": [
    "car_seven ={('audi', 's'): {'цена': 10000000}}\n",
    "car_seven[('audi', 's')]['год'] = 2020\n",
    "car_seven[('audi', 's')]['страна'] = \"германия\"\n",
    "car_seven[('audi', 's')]['разгон'] = \"5 сек\"\n",
    "car_seven[('audi', 's')]['привод'] = \"задний\"\n",
    "car_seven[('audi', 's')]['обьём двигателя'] = \"20л\"\n",
    "print(car_seven)"
   ]
  },
  {
   "cell_type": "code",
   "execution_count": 26,
   "id": "cf62aeec-b770-4630-b424-a9657d932961",
   "metadata": {
    "scrolled": true
   },
   "outputs": [
    {
     "name": "stdout",
     "output_type": "stream",
     "text": [
      "{('kia', 's'): {'цена': 3000000, 'год': 2020, 'страна': 'корея', 'разгон': '5 сек', 'привод': 'передний', 'обьём двигателя': '20л'}}\n"
     ]
    }
   ],
   "source": [
    "car_eight ={('kia', 's'): {'цена': 3000000}}\n",
    "car_eight[('kia', 's')]['год'] = 2020\n",
    "car_eight[('kia', 's')]['страна'] = \"корея\"\n",
    "car_eight[('kia', 's')]['разгон'] = \"5 сек\"\n",
    "car_eight[('kia', 's')]['привод'] = \"передний\"\n",
    "car_eight[('kia', 's')]['обьём двигателя'] = \"20л\"\n",
    "print(car_eight)"
   ]
  },
  {
   "cell_type": "code",
   "execution_count": 27,
   "id": "0425a4a0-6888-44f9-a90d-9917498dea53",
   "metadata": {
    "scrolled": true
   },
   "outputs": [
    {
     "name": "stdout",
     "output_type": "stream",
     "text": [
      "{('tank', 's'): {'цена': 5000000, 'год': 2023, 'страна': 'китай', 'разгон': '7 сек', 'привод': 'передний', 'обьём двигателя': '20л'}}\n"
     ]
    }
   ],
   "source": [
    "car_nine ={('tank', 's'): {'цена': 5000000}}\n",
    "car_nine[('tank', 's')]['год'] = 2023\n",
    "car_nine[('tank', 's')]['страна'] = \"китай\"\n",
    "car_nine[('tank', 's')]['разгон'] = \"7 сек\"\n",
    "car_nine[('tank', 's')]['привод'] = \"передний\"\n",
    "car_nine[('tank', 's')]['обьём двигателя'] = \"20л\"\n",
    "print(car_nine)"
   ]
  },
  {
   "cell_type": "code",
   "execution_count": 28,
   "id": "f7cbeec6-000e-4b41-97f9-b88dcc99c9ef",
   "metadata": {
    "scrolled": true
   },
   "outputs": [
    {
     "name": "stdout",
     "output_type": "stream",
     "text": [
      "{('tesla', 's'): {'цена': 1000000000, 'год': 2020, 'страна': 'америка', 'разгон': '10 сек', 'привод': 'полный', 'обьём двигателя': '2000w'}}\n"
     ]
    }
   ],
   "source": [
    "car_ten ={('tesla', 's'): {'цена': 1000000000}}\n",
    "car_ten[('tesla', 's')]['год'] = 2020\n",
    "car_ten[('tesla', 's')]['страна'] = \"америка\"\n",
    "car_ten[('tesla', 's')]['разгон'] = \"10 сек\"\n",
    "car_ten[('tesla', 's')]['привод'] = \"полный\"\n",
    "car_ten[('tesla', 's')]['обьём двигателя'] = \"2000w\"\n",
    "print(car_ten)"
   ]
  },
  {
   "cell_type": "code",
   "execution_count": 30,
   "id": "c321401b-a4b2-4359-851b-bd3dd725b6db",
   "metadata": {
    "scrolled": true
   },
   "outputs": [
    {
     "name": "stdout",
     "output_type": "stream",
     "text": [
      "[('mersedes', 's'), ('porsche', 's'), ('audi', 's'), ('kia', 's'), ('tesla', 's')]\n"
     ]
    }
   ],
   "source": [
    "cars=[car_one,car_two,car_three,car_four,car_five,car_six,car_seven,car_eight,car_nine,car_ten]\n",
    "def search_cars(katalog,param,kriteriy):\n",
    "    mylst=[]\n",
    "    for car in katalog:\n",
    "        for key,value in car.items():\n",
    "            if value[param] == kriteriy:\n",
    "                mylst.append(key)\n",
    "    return mylst\n",
    "param=\"год\"\n",
    "kriteriy=2020\n",
    "result=search_cars(cars,param,kriteriy)\n",
    "print(result)"
   ]
  },
  {
   "cell_type": "code",
   "execution_count": null,
   "id": "f4d54d77-1a14-4869-b42c-9cf6aa95b970",
   "metadata": {},
   "outputs": [],
   "source": []
  },
  {
   "cell_type": "code",
   "execution_count": null,
   "id": "f3803e40-53af-466b-b96b-db0d946a93ed",
   "metadata": {},
   "outputs": [],
   "source": []
  },
  {
   "cell_type": "code",
   "execution_count": null,
   "id": "65544c9e-5cc5-40af-8435-3b21a361ae43",
   "metadata": {},
   "outputs": [],
   "source": []
  },
  {
   "cell_type": "code",
   "execution_count": null,
   "id": "5ebab7d2-45af-407f-8872-6aed6bdb8315",
   "metadata": {},
   "outputs": [],
   "source": []
  },
  {
   "cell_type": "code",
   "execution_count": null,
   "id": "099ecd43-17d6-4301-b54d-738717d79ebe",
   "metadata": {},
   "outputs": [],
   "source": []
  },
  {
   "cell_type": "raw",
   "id": "93b32ec2-1716-47fd-b3c1-e77a1e68c89e",
   "metadata": {},
   "source": []
  },
  {
   "cell_type": "code",
   "execution_count": null,
   "id": "db6111fe-8a90-4183-ae8d-a339ebf682dc",
   "metadata": {},
   "outputs": [],
   "source": []
  },
  {
   "cell_type": "code",
   "execution_count": null,
   "id": "08874711-9512-48eb-8211-d1847cec615d",
   "metadata": {},
   "outputs": [],
   "source": []
  },
  {
   "cell_type": "code",
   "execution_count": 59,
   "id": "08dfe6f7-fac7-4e8a-b7c9-0a4f38868b60",
   "metadata": {},
   "outputs": [],
   "source": []
  },
  {
   "cell_type": "code",
   "execution_count": 60,
   "id": "da7d0ba1-741a-4f30-a596-62df45e03a5a",
   "metadata": {},
   "outputs": [],
   "source": []
  },
  {
   "cell_type": "code",
   "execution_count": 61,
   "id": "60d0f655-b90f-46f1-9ac4-c3796eb5a709",
   "metadata": {},
   "outputs": [],
   "source": []
  },
  {
   "cell_type": "code",
   "execution_count": null,
   "id": "933a55a8-5032-4fae-8849-322f9b9fde0e",
   "metadata": {},
   "outputs": [],
   "source": []
  },
  {
   "cell_type": "code",
   "execution_count": 58,
   "id": "81b1b9f2-a0c5-4e7d-99f3-12f16b0c6f19",
   "metadata": {},
   "outputs": [],
   "source": []
  },
  {
   "cell_type": "code",
   "execution_count": null,
   "id": "76d6b57f-f1d5-4f74-8738-9184d9ddde60",
   "metadata": {},
   "outputs": [],
   "source": []
  },
  {
   "cell_type": "code",
   "execution_count": null,
   "id": "978a8ef5-8be4-4e59-b1ad-278b751b77d1",
   "metadata": {},
   "outputs": [],
   "source": []
  }
 ],
 "metadata": {
  "kernelspec": {
   "display_name": "Python 3 (ipykernel)",
   "language": "python",
   "name": "python3"
  },
  "language_info": {
   "codemirror_mode": {
    "name": "ipython",
    "version": 3
   },
   "file_extension": ".py",
   "mimetype": "text/x-python",
   "name": "python",
   "nbconvert_exporter": "python",
   "pygments_lexer": "ipython3",
   "version": "3.11.7"
  }
 },
 "nbformat": 4,
 "nbformat_minor": 5
}
